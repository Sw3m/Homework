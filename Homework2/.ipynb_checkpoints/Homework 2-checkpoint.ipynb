{
 "cells": [
  {
   "cell_type": "markdown",
   "metadata": {},
   "source": [
    "# Conceptual\n",
    "\n"
   ]
  },
  {
   "cell_type": "markdown",
   "metadata": {},
   "source": [
    "1. What is the difference between train and test set?\n",
    "\n",
    "    A train set of data is used to train a model that will use the test data set to predict an outcome.\n",
    "    \n",
    "    \n",
    "2. Why is it important to have a seperate data set for training?\n",
    "\n",
    "    So that we can determine the predictive relatiionship between features when applied to a model, in order to assess the strength of the relationship when test data set is used against the same model.\n",
    "    \n",
    "    \n",
    "3. What are some advantages and disadvantages of the KNN algorithm?\n",
    " \n",
    "   Advantages:\n",
    "    Training is fast\n",
    "    Learn complex target functions\n",
    "    Don't lose information\n",
    "\n",
    "   Disadvantages:\n",
    "    Slow at query time\n",
    "    Lot's of storage\n",
    "    Easily fooled by irrelevant features and high dimensions\n",
    "\n",
    "\n",
    "4. Explain in your own words the bias variance tradeoff.\n",
    "    \n",
    "    Bias and Variance are measures of what would happen if we were to retrain a model many times on different sets of training data.\n",
    "    \n",
    "5. Do you think KNN suffers from high bias or high variance?\n",
    "    \n",
    "    High Bias\n",
    "    \n",
    "    \n",
    "6. List some possible solutions when suffering from high variance.\n",
    "    \n",
    "    Remove features or add more data.\n",
    "    \n",
    "    \n",
    "7. List some possible solutions when suffereing from high bias.\n",
    "    \n",
    "    Add more features.\n",
    "    \n",
    "\n",
    "8. Would you choose K when doing K Nearest Neighbors?\n",
    "    \n",
    "    No you use K Fold cross validation to determine the optimal k value"
   ]
  },
  {
   "cell_type": "markdown",
   "metadata": {},
   "source": [
    "# Practical"
   ]
  },
  {
   "cell_type": "markdown",
   "metadata": {},
   "source": [
    "##Questions\n",
    "1. Perform regression on the prostate data set. Your goal is to minimize the mean squared error (MSE). Split this into a several parts and at a minimum utilize\n",
    "    * Linear Regression\n",
    "    * KNN\n",
    "    * Lasso\n",
    "    * Ridge \n",
    "    * Use cross validation to tune the best model you can"
   ]
  },
  {
   "cell_type": "code",
   "execution_count": 35,
   "metadata": {
    "collapsed": true
   },
   "outputs": [],
   "source": [
    "import pandas as pd\n",
    "import numpy as np\n",
    "import matplotlib.pyplot as plt\n",
    "from sklearn import linear_model\n",
    "from sklearn.linear_model import Lasso\n",
    "from sklearn.linear_model import Ridge\n",
    "from sklearn.preprocessing import StandardScaler\n",
    "from sklearn import cross_validation\n",
    "from sklearn.metrics import mean_squared_error\n",
    "from sklearn import grid_search\n",
    "%matplotlib inline\n",
    "from sklearn import neighbors\n",
    "from sklearn.preprocessing import PolynomialFeatures\n",
    "from sklearn import preprocessing\n",
    "\n",
    "\n",
    "ds_cancer=pd.read_csv('C:/Users/sawadhawan/Documents/GitHub/DAT_ATL_15/Datasets/ProstateCancer.csv')\n",
    "del ds_cancer['Unnamed: 0']"
   ]
  },
  {
   "cell_type": "code",
   "execution_count": 36,
   "metadata": {
    "collapsed": false
   },
   "outputs": [
    {
     "data": {
      "text/html": [
       "<div>\n",
       "<table border=\"1\" class=\"dataframe\">\n",
       "  <thead>\n",
       "    <tr style=\"text-align: right;\">\n",
       "      <th></th>\n",
       "      <th>lcavol</th>\n",
       "      <th>lweight</th>\n",
       "      <th>age</th>\n",
       "      <th>lbph</th>\n",
       "      <th>svi</th>\n",
       "      <th>lcp</th>\n",
       "      <th>gleason</th>\n",
       "      <th>pgg45</th>\n",
       "      <th>lpsa</th>\n",
       "      <th>train</th>\n",
       "    </tr>\n",
       "  </thead>\n",
       "  <tbody>\n",
       "    <tr>\n",
       "      <th>0</th>\n",
       "      <td>-0.579818</td>\n",
       "      <td>2.769459</td>\n",
       "      <td>50</td>\n",
       "      <td>-1.386294</td>\n",
       "      <td>0</td>\n",
       "      <td>-1.386294</td>\n",
       "      <td>6</td>\n",
       "      <td>0</td>\n",
       "      <td>-0.430783</td>\n",
       "      <td>T</td>\n",
       "    </tr>\n",
       "    <tr>\n",
       "      <th>1</th>\n",
       "      <td>-0.994252</td>\n",
       "      <td>3.319626</td>\n",
       "      <td>58</td>\n",
       "      <td>-1.386294</td>\n",
       "      <td>0</td>\n",
       "      <td>-1.386294</td>\n",
       "      <td>6</td>\n",
       "      <td>0</td>\n",
       "      <td>-0.162519</td>\n",
       "      <td>T</td>\n",
       "    </tr>\n",
       "    <tr>\n",
       "      <th>2</th>\n",
       "      <td>-0.510826</td>\n",
       "      <td>2.691243</td>\n",
       "      <td>74</td>\n",
       "      <td>-1.386294</td>\n",
       "      <td>0</td>\n",
       "      <td>-1.386294</td>\n",
       "      <td>7</td>\n",
       "      <td>20</td>\n",
       "      <td>-0.162519</td>\n",
       "      <td>T</td>\n",
       "    </tr>\n",
       "    <tr>\n",
       "      <th>3</th>\n",
       "      <td>-1.203973</td>\n",
       "      <td>3.282789</td>\n",
       "      <td>58</td>\n",
       "      <td>-1.386294</td>\n",
       "      <td>0</td>\n",
       "      <td>-1.386294</td>\n",
       "      <td>6</td>\n",
       "      <td>0</td>\n",
       "      <td>-0.162519</td>\n",
       "      <td>T</td>\n",
       "    </tr>\n",
       "    <tr>\n",
       "      <th>4</th>\n",
       "      <td>0.751416</td>\n",
       "      <td>3.432373</td>\n",
       "      <td>62</td>\n",
       "      <td>-1.386294</td>\n",
       "      <td>0</td>\n",
       "      <td>-1.386294</td>\n",
       "      <td>6</td>\n",
       "      <td>0</td>\n",
       "      <td>0.371564</td>\n",
       "      <td>T</td>\n",
       "    </tr>\n",
       "  </tbody>\n",
       "</table>\n",
       "</div>"
      ],
      "text/plain": [
       "     lcavol   lweight  age      lbph  svi       lcp  gleason  pgg45      lpsa  \\\n",
       "0 -0.579818  2.769459   50 -1.386294    0 -1.386294        6      0 -0.430783   \n",
       "1 -0.994252  3.319626   58 -1.386294    0 -1.386294        6      0 -0.162519   \n",
       "2 -0.510826  2.691243   74 -1.386294    0 -1.386294        7     20 -0.162519   \n",
       "3 -1.203973  3.282789   58 -1.386294    0 -1.386294        6      0 -0.162519   \n",
       "4  0.751416  3.432373   62 -1.386294    0 -1.386294        6      0  0.371564   \n",
       "\n",
       "  train  \n",
       "0     T  \n",
       "1     T  \n",
       "2     T  \n",
       "3     T  \n",
       "4     T  "
      ]
     },
     "execution_count": 36,
     "metadata": {},
     "output_type": "execute_result"
    }
   ],
   "source": [
    "ds_cancer.head()"
   ]
  },
  {
   "cell_type": "code",
   "execution_count": 37,
   "metadata": {
    "collapsed": false
   },
   "outputs": [],
   "source": [
    "ds_cancer_trn=ds_cancer[ds_cancer['train']=='T']\n",
    "del ds_cancer_trn['train']\n",
    "ds_cancer_test=ds_cancer[ds_cancer['train']=='F']\n",
    "del ds_cancer_test['train']\n",
    "x_train=ds_cancer_trn[['lcavol','lweight','age','lbph','svi','lcp','gleason','pgg45']]\n",
    "y_train=ds_cancer_trn[['lpsa']]\n",
    "x_test = ds_cancer_test[['lcavol','lweight','age','lbph','svi','lcp','gleason','pgg45']]\n",
    "y_test= ds_cancer_test[['lpsa']]"
   ]
  },
  {
   "cell_type": "code",
   "execution_count": 38,
   "metadata": {
    "collapsed": false
   },
   "outputs": [
    {
     "data": {
      "text/html": [
       "<div>\n",
       "<table border=\"1\" class=\"dataframe\">\n",
       "  <thead>\n",
       "    <tr style=\"text-align: right;\">\n",
       "      <th></th>\n",
       "      <th>lcavol</th>\n",
       "      <th>lweight</th>\n",
       "      <th>age</th>\n",
       "      <th>lbph</th>\n",
       "      <th>svi</th>\n",
       "      <th>lcp</th>\n",
       "      <th>gleason</th>\n",
       "      <th>pgg45</th>\n",
       "      <th>lpsa</th>\n",
       "    </tr>\n",
       "  </thead>\n",
       "  <tbody>\n",
       "    <tr>\n",
       "      <th>0</th>\n",
       "      <td>-0.579818</td>\n",
       "      <td>2.769459</td>\n",
       "      <td>50</td>\n",
       "      <td>-1.386294</td>\n",
       "      <td>0</td>\n",
       "      <td>-1.386294</td>\n",
       "      <td>6</td>\n",
       "      <td>0</td>\n",
       "      <td>-0.430783</td>\n",
       "    </tr>\n",
       "    <tr>\n",
       "      <th>1</th>\n",
       "      <td>-0.994252</td>\n",
       "      <td>3.319626</td>\n",
       "      <td>58</td>\n",
       "      <td>-1.386294</td>\n",
       "      <td>0</td>\n",
       "      <td>-1.386294</td>\n",
       "      <td>6</td>\n",
       "      <td>0</td>\n",
       "      <td>-0.162519</td>\n",
       "    </tr>\n",
       "    <tr>\n",
       "      <th>2</th>\n",
       "      <td>-0.510826</td>\n",
       "      <td>2.691243</td>\n",
       "      <td>74</td>\n",
       "      <td>-1.386294</td>\n",
       "      <td>0</td>\n",
       "      <td>-1.386294</td>\n",
       "      <td>7</td>\n",
       "      <td>20</td>\n",
       "      <td>-0.162519</td>\n",
       "    </tr>\n",
       "    <tr>\n",
       "      <th>3</th>\n",
       "      <td>-1.203973</td>\n",
       "      <td>3.282789</td>\n",
       "      <td>58</td>\n",
       "      <td>-1.386294</td>\n",
       "      <td>0</td>\n",
       "      <td>-1.386294</td>\n",
       "      <td>6</td>\n",
       "      <td>0</td>\n",
       "      <td>-0.162519</td>\n",
       "    </tr>\n",
       "    <tr>\n",
       "      <th>4</th>\n",
       "      <td>0.751416</td>\n",
       "      <td>3.432373</td>\n",
       "      <td>62</td>\n",
       "      <td>-1.386294</td>\n",
       "      <td>0</td>\n",
       "      <td>-1.386294</td>\n",
       "      <td>6</td>\n",
       "      <td>0</td>\n",
       "      <td>0.371564</td>\n",
       "    </tr>\n",
       "  </tbody>\n",
       "</table>\n",
       "</div>"
      ],
      "text/plain": [
       "     lcavol   lweight  age      lbph  svi       lcp  gleason  pgg45      lpsa\n",
       "0 -0.579818  2.769459   50 -1.386294    0 -1.386294        6      0 -0.430783\n",
       "1 -0.994252  3.319626   58 -1.386294    0 -1.386294        6      0 -0.162519\n",
       "2 -0.510826  2.691243   74 -1.386294    0 -1.386294        7     20 -0.162519\n",
       "3 -1.203973  3.282789   58 -1.386294    0 -1.386294        6      0 -0.162519\n",
       "4  0.751416  3.432373   62 -1.386294    0 -1.386294        6      0  0.371564"
      ]
     },
     "execution_count": 38,
     "metadata": {},
     "output_type": "execute_result"
    }
   ],
   "source": [
    "ds_cancer_trn.head()"
   ]
  },
  {
   "cell_type": "code",
   "execution_count": 39,
   "metadata": {
    "collapsed": false
   },
   "outputs": [
    {
     "data": {
      "text/html": [
       "<div>\n",
       "<table border=\"1\" class=\"dataframe\">\n",
       "  <thead>\n",
       "    <tr style=\"text-align: right;\">\n",
       "      <th></th>\n",
       "      <th>lcavol</th>\n",
       "      <th>lweight</th>\n",
       "      <th>age</th>\n",
       "      <th>lbph</th>\n",
       "      <th>svi</th>\n",
       "      <th>lcp</th>\n",
       "      <th>gleason</th>\n",
       "      <th>pgg45</th>\n",
       "      <th>lpsa</th>\n",
       "    </tr>\n",
       "  </thead>\n",
       "  <tbody>\n",
       "    <tr>\n",
       "      <th>6</th>\n",
       "      <td>0.737164</td>\n",
       "      <td>3.473518</td>\n",
       "      <td>64</td>\n",
       "      <td>0.615186</td>\n",
       "      <td>0</td>\n",
       "      <td>-1.386294</td>\n",
       "      <td>6</td>\n",
       "      <td>0</td>\n",
       "      <td>0.765468</td>\n",
       "    </tr>\n",
       "    <tr>\n",
       "      <th>8</th>\n",
       "      <td>-0.776529</td>\n",
       "      <td>3.539509</td>\n",
       "      <td>47</td>\n",
       "      <td>-1.386294</td>\n",
       "      <td>0</td>\n",
       "      <td>-1.386294</td>\n",
       "      <td>6</td>\n",
       "      <td>0</td>\n",
       "      <td>1.047319</td>\n",
       "    </tr>\n",
       "    <tr>\n",
       "      <th>9</th>\n",
       "      <td>0.223144</td>\n",
       "      <td>3.244544</td>\n",
       "      <td>63</td>\n",
       "      <td>-1.386294</td>\n",
       "      <td>0</td>\n",
       "      <td>-1.386294</td>\n",
       "      <td>6</td>\n",
       "      <td>0</td>\n",
       "      <td>1.047319</td>\n",
       "    </tr>\n",
       "    <tr>\n",
       "      <th>14</th>\n",
       "      <td>1.205971</td>\n",
       "      <td>3.442019</td>\n",
       "      <td>57</td>\n",
       "      <td>-1.386294</td>\n",
       "      <td>0</td>\n",
       "      <td>-0.430783</td>\n",
       "      <td>7</td>\n",
       "      <td>5</td>\n",
       "      <td>1.398717</td>\n",
       "    </tr>\n",
       "    <tr>\n",
       "      <th>21</th>\n",
       "      <td>2.059239</td>\n",
       "      <td>3.501043</td>\n",
       "      <td>60</td>\n",
       "      <td>1.474763</td>\n",
       "      <td>0</td>\n",
       "      <td>1.348073</td>\n",
       "      <td>7</td>\n",
       "      <td>20</td>\n",
       "      <td>1.658228</td>\n",
       "    </tr>\n",
       "  </tbody>\n",
       "</table>\n",
       "</div>"
      ],
      "text/plain": [
       "      lcavol   lweight  age      lbph  svi       lcp  gleason  pgg45      lpsa\n",
       "6   0.737164  3.473518   64  0.615186    0 -1.386294        6      0  0.765468\n",
       "8  -0.776529  3.539509   47 -1.386294    0 -1.386294        6      0  1.047319\n",
       "9   0.223144  3.244544   63 -1.386294    0 -1.386294        6      0  1.047319\n",
       "14  1.205971  3.442019   57 -1.386294    0 -0.430783        7      5  1.398717\n",
       "21  2.059239  3.501043   60  1.474763    0  1.348073        7     20  1.658228"
      ]
     },
     "execution_count": 39,
     "metadata": {},
     "output_type": "execute_result"
    }
   ],
   "source": [
    "ds_cancer_test.head()"
   ]
  },
  {
   "cell_type": "code",
   "execution_count": 40,
   "metadata": {
    "collapsed": false
   },
   "outputs": [
    {
     "data": {
      "text/plain": [
       "LinearRegression(copy_X=True, fit_intercept=True, n_jobs=1, normalize=False)"
      ]
     },
     "execution_count": 40,
     "metadata": {},
     "output_type": "execute_result"
    }
   ],
   "source": [
    "cancer_rgr = linear_model.LinearRegression()\n",
    "cancer_rgr.fit(x_train,y_train)"
   ]
  },
  {
   "cell_type": "code",
   "execution_count": 41,
   "metadata": {
    "collapsed": false
   },
   "outputs": [
    {
     "name": "stdout",
     "output_type": "stream",
     "text": [
      "coefficient [[ 0.57654319  0.61402    -0.01900102  0.14484808  0.73720864 -0.20632423\n",
      "  -0.02950288  0.00946516]]\n",
      "intercept [ 0.42917013]\n",
      "Mean squared error for liner regression: 0.521274005508\n"
     ]
    }
   ],
   "source": [
    "print(\"coefficient {}\".format(cancer_rgr.coef_))\n",
    "print(\"intercept {}\".format(cancer_rgr.intercept_))\n",
    "\n",
    "LR_MSE = mean_squared_error(y_test, cancer_rgr.predict(x_test))\n",
    "print('Mean squared error for liner regression: {}'.format(LR_MSE))"
   ]
  },
  {
   "cell_type": "code",
   "execution_count": 42,
   "metadata": {
    "collapsed": false
   },
   "outputs": [
    {
     "name": "stdout",
     "output_type": "stream",
     "text": [
      "                            OLS Regression Results                            \n",
      "==============================================================================\n",
      "Dep. Variable:                    lcp   R-squared:                       1.000\n",
      "Model:                            OLS   Adj. R-squared:                  1.000\n",
      "Method:                 Least Squares   F-statistic:                 6.268e+30\n",
      "Date:                Wed, 07 Oct 2015   Prob (F-statistic):          3.47e-317\n",
      "Time:                        21:56:15   Log-Likelihood:                 996.78\n",
      "No. Observations:                  30   AIC:                            -1976.\n",
      "Df Residuals:                      21   BIC:                            -1963.\n",
      "Df Model:                           8                                         \n",
      "Covariance Type:            nonrobust                                         \n",
      "==============================================================================\n",
      "                 coef    std err          t      P>|t|      [95.0% Conf. Int.]\n",
      "------------------------------------------------------------------------------\n",
      "Intercept   2.442e-15   4.32e-15      0.566      0.578     -6.54e-15  1.14e-14\n",
      "lcavol      5.551e-17    2.8e-16      0.198      0.845     -5.28e-16  6.39e-16\n",
      "lweight    -1.082e-15   8.44e-16     -1.283      0.214     -2.84e-15  6.73e-16\n",
      "age        -1.735e-18   3.79e-17     -0.046      0.964     -8.06e-17  7.72e-17\n",
      "lbph        3.643e-17   1.97e-16      0.185      0.855     -3.73e-16  4.46e-16\n",
      "svi        -9.437e-16   6.97e-16     -1.354      0.190     -2.39e-15  5.05e-16\n",
      "lcp            1.0000   2.75e-16   3.64e+15      0.000         1.000     1.000\n",
      "gleason     9.021e-17   4.62e-16      0.195      0.847     -8.71e-16  1.05e-15\n",
      "pgg45       3.209e-17   1.44e-17      2.236      0.036      2.25e-18  6.19e-17\n",
      "==============================================================================\n",
      "Omnibus:                        3.833   Durbin-Watson:                   1.315\n",
      "Prob(Omnibus):                  0.147   Jarque-Bera (JB):                2.315\n",
      "Skew:                          -0.489   Prob(JB):                        0.314\n",
      "Kurtosis:                       3.947   Cond. No.                     1.48e+03\n",
      "==============================================================================\n",
      "\n",
      "Warnings:\n",
      "[1] Standard Errors assume that the covariance matrix of the errors is correctly specified.\n",
      "[2] The condition number is large, 1.48e+03. This might indicate that there are\n",
      "strong multicollinearity or other numerical problems.\n"
     ]
    }
   ],
   "source": [
    "import statsmodels.formula.api as sm\n",
    "\n",
    "model = sm.ols(formula='lcp ~ lcavol + lweight + age + lbph + svi + lcp + gleason + pgg45', data=ds_cancer_test)\n",
    "results = model.fit()\n",
    "print(results.summary())"
   ]
  },
  {
   "cell_type": "code",
   "execution_count": 49,
   "metadata": {
    "collapsed": false
   },
   "outputs": [
    {
     "data": {
      "text/html": [
       "<div>\n",
       "<table border=\"1\" class=\"dataframe\">\n",
       "  <thead>\n",
       "    <tr style=\"text-align: right;\">\n",
       "      <th></th>\n",
       "      <th>lcavol</th>\n",
       "      <th>lweight</th>\n",
       "      <th>age</th>\n",
       "      <th>lbph</th>\n",
       "      <th>svi</th>\n",
       "      <th>lcp</th>\n",
       "      <th>gleason</th>\n",
       "      <th>pgg45</th>\n",
       "      <th>lpsa</th>\n",
       "    </tr>\n",
       "  </thead>\n",
       "  <tbody>\n",
       "    <tr>\n",
       "      <th>lcavol</th>\n",
       "      <td>1.000000</td>\n",
       "      <td>0.203455</td>\n",
       "      <td>0.096055</td>\n",
       "      <td>-0.076500</td>\n",
       "      <td>0.398673</td>\n",
       "      <td>0.636998</td>\n",
       "      <td>0.453406</td>\n",
       "      <td>0.309566</td>\n",
       "      <td>0.737401</td>\n",
       "    </tr>\n",
       "    <tr>\n",
       "      <th>lweight</th>\n",
       "      <td>0.203455</td>\n",
       "      <td>1.000000</td>\n",
       "      <td>0.526248</td>\n",
       "      <td>0.495874</td>\n",
       "      <td>0.072752</td>\n",
       "      <td>0.205169</td>\n",
       "      <td>0.173297</td>\n",
       "      <td>0.257143</td>\n",
       "      <td>0.233263</td>\n",
       "    </tr>\n",
       "    <tr>\n",
       "      <th>age</th>\n",
       "      <td>0.096055</td>\n",
       "      <td>0.526248</td>\n",
       "      <td>1.000000</td>\n",
       "      <td>0.543672</td>\n",
       "      <td>0.079422</td>\n",
       "      <td>0.049455</td>\n",
       "      <td>0.092624</td>\n",
       "      <td>0.230829</td>\n",
       "      <td>0.041092</td>\n",
       "    </tr>\n",
       "    <tr>\n",
       "      <th>lbph</th>\n",
       "      <td>-0.076500</td>\n",
       "      <td>0.495874</td>\n",
       "      <td>0.543672</td>\n",
       "      <td>1.000000</td>\n",
       "      <td>0.043540</td>\n",
       "      <td>0.175657</td>\n",
       "      <td>0.170479</td>\n",
       "      <td>0.379522</td>\n",
       "      <td>-0.044297</td>\n",
       "    </tr>\n",
       "    <tr>\n",
       "      <th>svi</th>\n",
       "      <td>0.398673</td>\n",
       "      <td>0.072752</td>\n",
       "      <td>0.079422</td>\n",
       "      <td>0.043540</td>\n",
       "      <td>1.000000</td>\n",
       "      <td>0.683579</td>\n",
       "      <td>0.356348</td>\n",
       "      <td>0.394816</td>\n",
       "      <td>0.599771</td>\n",
       "    </tr>\n",
       "    <tr>\n",
       "      <th>lcp</th>\n",
       "      <td>0.636998</td>\n",
       "      <td>0.205169</td>\n",
       "      <td>0.049455</td>\n",
       "      <td>0.175657</td>\n",
       "      <td>0.683579</td>\n",
       "      <td>1.000000</td>\n",
       "      <td>0.593699</td>\n",
       "      <td>0.582940</td>\n",
       "      <td>0.707463</td>\n",
       "    </tr>\n",
       "    <tr>\n",
       "      <th>gleason</th>\n",
       "      <td>0.453406</td>\n",
       "      <td>0.173297</td>\n",
       "      <td>0.092624</td>\n",
       "      <td>0.170479</td>\n",
       "      <td>0.356348</td>\n",
       "      <td>0.593699</td>\n",
       "      <td>1.000000</td>\n",
       "      <td>0.782083</td>\n",
       "      <td>0.437303</td>\n",
       "    </tr>\n",
       "    <tr>\n",
       "      <th>pgg45</th>\n",
       "      <td>0.309566</td>\n",
       "      <td>0.257143</td>\n",
       "      <td>0.230829</td>\n",
       "      <td>0.379522</td>\n",
       "      <td>0.394816</td>\n",
       "      <td>0.582940</td>\n",
       "      <td>0.782083</td>\n",
       "      <td>1.000000</td>\n",
       "      <td>0.367904</td>\n",
       "    </tr>\n",
       "    <tr>\n",
       "      <th>lpsa</th>\n",
       "      <td>0.737401</td>\n",
       "      <td>0.233263</td>\n",
       "      <td>0.041092</td>\n",
       "      <td>-0.044297</td>\n",
       "      <td>0.599771</td>\n",
       "      <td>0.707463</td>\n",
       "      <td>0.437303</td>\n",
       "      <td>0.367904</td>\n",
       "      <td>1.000000</td>\n",
       "    </tr>\n",
       "  </tbody>\n",
       "</table>\n",
       "</div>"
      ],
      "text/plain": [
       "           lcavol   lweight       age      lbph       svi       lcp   gleason  \\\n",
       "lcavol   1.000000  0.203455  0.096055 -0.076500  0.398673  0.636998  0.453406   \n",
       "lweight  0.203455  1.000000  0.526248  0.495874  0.072752  0.205169  0.173297   \n",
       "age      0.096055  0.526248  1.000000  0.543672  0.079422  0.049455  0.092624   \n",
       "lbph    -0.076500  0.495874  0.543672  1.000000  0.043540  0.175657  0.170479   \n",
       "svi      0.398673  0.072752  0.079422  0.043540  1.000000  0.683579  0.356348   \n",
       "lcp      0.636998  0.205169  0.049455  0.175657  0.683579  1.000000  0.593699   \n",
       "gleason  0.453406  0.173297  0.092624  0.170479  0.356348  0.593699  1.000000   \n",
       "pgg45    0.309566  0.257143  0.230829  0.379522  0.394816  0.582940  0.782083   \n",
       "lpsa     0.737401  0.233263  0.041092 -0.044297  0.599771  0.707463  0.437303   \n",
       "\n",
       "            pgg45      lpsa  \n",
       "lcavol   0.309566  0.737401  \n",
       "lweight  0.257143  0.233263  \n",
       "age      0.230829  0.041092  \n",
       "lbph     0.379522 -0.044297  \n",
       "svi      0.394816  0.599771  \n",
       "lcp      0.582940  0.707463  \n",
       "gleason  0.782083  0.437303  \n",
       "pgg45    1.000000  0.367904  \n",
       "lpsa     0.367904  1.000000  "
      ]
     },
     "execution_count": 49,
     "metadata": {},
     "output_type": "execute_result"
    }
   ],
   "source": [
    "ds_cancer_test.corr()"
   ]
  },
  {
   "cell_type": "code",
   "execution_count": 43,
   "metadata": {
    "collapsed": false
   },
   "outputs": [
    {
     "name": "stdout",
     "output_type": "stream",
     "text": [
      "Mean squared error for KNN: 1.20880435689\n"
     ]
    }
   ],
   "source": [
    "x_train=ds_cancer_trn[['lcavol','lweight','age','lbph','svi','lcp','gleason','pgg45']]\n",
    "y_train=ds_cancer_trn[['lpsa']]\n",
    "x_test = ds_cancer_test[['lcavol','lweight','age','lbph','svi','lcp','gleason','pgg45']]\n",
    "y_test= ds_cancer_test[['lpsa']]\n",
    "\n",
    "knn = neighbors.KNeighborsRegressor()\n",
    "knn.fit(x_train,y_train)\n",
    "y_ = knn.predict(x_test)\n",
    "\n",
    "#y_ = knn.fit(x_train.values,y_train).predict(x_test.values)\n",
    "#plt.scatter(x_train.values,y_train.values,c='k', label='data')\n",
    "#plt.plot(x_test,y_,c='b',label='prediction')\n",
    "\n",
    "KNN_MSE = mean_squared_error(y_test, knn.predict(x_test))\n",
    "print('Mean squared error for KNN: {}'.format(KNN_MSE))"
   ]
  },
  {
   "cell_type": "code",
   "execution_count": 44,
   "metadata": {
    "collapsed": false
   },
   "outputs": [],
   "source": [
    "#X_train_scaled, X_test_scaled, y_train_scaled, y_test_scaled = cross_validation.train_test_split(preprocessing.scale(ds_cancer_trn), ds_cancer_test, test_size=0.2, random_state=0)\n",
    "x_train=ds_cancer_trn[['lcavol','lweight','age','lbph','svi','lcp','gleason','pgg45']]\n",
    "y_train=ds_cancer_trn[['lpsa']]\n",
    "x_test = ds_cancer_test[['lcavol','lweight','age','lbph','svi','lcp','gleason','pgg45']]\n",
    "y_test= ds_cancer_test[['lpsa']]\n",
    "\n",
    "X_train_scaled=preprocessing.scale(x_train)\n",
    "X_test_scaled=preprocessing.scale(x_test)\n",
    "y_train_scaled=preprocessing.scale(y_train)\n",
    "y_test_scaled = preprocessing.scale(y_test)"
   ]
  },
  {
   "cell_type": "code",
   "execution_count": 45,
   "metadata": {
    "collapsed": false
   },
   "outputs": [
    {
     "data": {
      "text/plain": [
       "GridSearchCV(cv=5, error_score='raise',\n",
       "       estimator=Ridge(alpha=1.0, copy_X=True, fit_intercept=True, max_iter=None,\n",
       "   normalize=True, solver='auto', tol=0.001),\n",
       "       fit_params={}, iid=True, loss_func=None, n_jobs=1,\n",
       "       param_grid=[{'alpha': array([  1.00000e-08,   3.33454e-04, ...,   9.99667e-01,   1.00000e+00])}],\n",
       "       pre_dispatch='2*n_jobs', refit=True, score_func=None, scoring=None,\n",
       "       verbose=0)"
      ]
     },
     "execution_count": 45,
     "metadata": {},
     "output_type": "execute_result"
    }
   ],
   "source": [
    "param_grid = [{'alpha':np.linspace(1e-8, 1, 3000)}]\n",
    "\n",
    "#Ridge\n",
    "ridge_rgr = linear_model.Ridge(normalize = True)\n",
    "ridge_cv = grid_search.GridSearchCV(ridge_rgr, param_grid,cv=5)\n",
    "ridge_cv.fit(X_train_scaled, y_train_scaled)\n"
   ]
  },
  {
   "cell_type": "code",
   "execution_count": 46,
   "metadata": {
    "collapsed": false
   },
   "outputs": [
    {
     "data": {
      "text/plain": [
       "GridSearchCV(cv=5, error_score='raise',\n",
       "       estimator=Lasso(alpha=1.0, copy_X=True, fit_intercept=True, max_iter=1000,\n",
       "   normalize=True, positive=False, precompute=False, random_state=None,\n",
       "   selection='cyclic', tol=0.0001, warm_start=False),\n",
       "       fit_params={}, iid=True, loss_func=None, n_jobs=1,\n",
       "       param_grid=[{'alpha': array([  1.00000e-08,   3.33454e-04, ...,   9.99667e-01,   1.00000e+00])}],\n",
       "       pre_dispatch='2*n_jobs', refit=True, score_func=None, scoring=None,\n",
       "       verbose=0)"
      ]
     },
     "execution_count": 46,
     "metadata": {},
     "output_type": "execute_result"
    }
   ],
   "source": [
    "#Lasso\n",
    "lasso_rgr = linear_model.Lasso(normalize = True)\n",
    "lasso_cv = grid_search.GridSearchCV(lasso_rgr, param_grid, cv=5)\n",
    "lasso_cv.fit(X_train_scaled, y_train_scaled)"
   ]
  },
  {
   "cell_type": "code",
   "execution_count": 47,
   "metadata": {
    "collapsed": false
   },
   "outputs": [
    {
     "name": "stdout",
     "output_type": "stream",
     "text": [
      "Mean squared error for Ridge regression: 0.509778011955\n",
      "Mean squared error for Lasso regression: 0.492411948696\n"
     ]
    }
   ],
   "source": [
    "Ridge_MSE = mean_squared_error(y_test_scaled, ridge_cv.best_estimator_.predict(X_test_scaled))\n",
    "Lasso_MSE = mean_squared_error(y_test_scaled, lasso_cv.best_estimator_.predict(X_test_scaled))\n",
    "\n",
    "print('Mean squared error for Ridge regression: {}'.format(Ridge_MSE))\n",
    "print('Mean squared error for Lasso regression: {}'.format(Lasso_MSE))"
   ]
  },
  {
   "cell_type": "code",
   "execution_count": 48,
   "metadata": {
    "collapsed": false
   },
   "outputs": [
    {
     "name": "stdout",
     "output_type": "stream",
     "text": [
      "Mean squared error for Ridge regression: 0.491127417991\n",
      "Mean squared error for Lasso regression: 0.491127392749\n"
     ]
    }
   ],
   "source": [
    "from sklearn.metrics import make_scorer, mean_squared_error\n",
    "mse = make_scorer(mean_squared_error, greater_is_better = False)\n",
    "\n",
    "param_grid = [{'alpha':np.linspace(1e-8, 1, 3000)}]\n",
    "\n",
    "#Ridge\n",
    "ridge_rgr = linear_model.Ridge()\n",
    "ridge_cv = grid_search.GridSearchCV(ridge_rgr, param_grid,cv=5, scoring=mse)\n",
    "ridge_cv.fit(X_train_scaled, y_train_scaled)\n",
    "\n",
    "#Lasso\n",
    "lasso_rgr = linear_model.Lasso()\n",
    "lasso_cv = grid_search.GridSearchCV(lasso_rgr, param_grid, cv=5, scoring=mse)\n",
    "lasso_cv.fit(X_train_scaled, y_train_scaled)\n",
    "\n",
    "\n",
    "Ridge_MSE = mean_squared_error(y_test_scaled, ridge_cv.best_estimator_.predict(X_test_scaled))\n",
    "Lasso_MSE = mean_squared_error(y_test_scaled, lasso_cv.best_estimator_.predict(X_test_scaled))\n",
    "\n",
    "print('Mean squared error for Ridge regression: {}'.format(Ridge_MSE))\n",
    "print('Mean squared error for Lasso regression: {}'.format(Lasso_MSE))"
   ]
  },
  {
   "cell_type": "markdown",
   "metadata": {},
   "source": [
    "### Questions \n",
    "\n",
    "####2. Were there any features that were highly correlated?\n",
    "    svi\tlcp\tgleason are highly correlated.\n",
    "####3. What features were the most important? Unimportant?\n",
    "    Important : lcoval; weight;gleason\n",
    "    Unimportant: age\n",
    "####4. What model worked best? What was the MSE of each?\n",
    "    Lasso Regression seems to be the model that worked best.\n",
    "    Mean squared error for liner regression: 0.521274005508\n",
    "    Mean squared error for KNN: 1.20880435689\n",
    "    Mean squared error for Ridge regression: 0.509778011955\n",
    "    Mean squared error for Lasso regression: 0.492411948696\n",
    "####5. What difficulties did you have with this data set?\n",
    "   Breaking the data apart into train and test based on a field value versus random selection to detemrine which model works the best."
   ]
  },
  {
   "cell_type": "code",
   "execution_count": null,
   "metadata": {
    "collapsed": true
   },
   "outputs": [],
   "source": []
  }
 ],
 "metadata": {
  "kernelspec": {
   "display_name": "Python 2",
   "language": "python",
   "name": "python2"
  },
  "language_info": {
   "codemirror_mode": {
    "name": "ipython",
    "version": 2
   },
   "file_extension": ".py",
   "mimetype": "text/x-python",
   "name": "python",
   "nbconvert_exporter": "python",
   "pygments_lexer": "ipython2",
   "version": "2.7.10"
  }
 },
 "nbformat": 4,
 "nbformat_minor": 0
}
